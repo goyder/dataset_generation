{
 "cells": [
  {
   "cell_type": "code",
   "execution_count": 38,
   "metadata": {},
   "outputs": [],
   "source": [
    "import os\n",
    "import numpy as np\n",
    "import json\n",
    "import pandas as pd\n",
    "\n",
    "from tqdm import tqdm\n",
    "from pprint import pprint\n",
    "from keras.applications import MobileNet\n",
    "from keras.applications import VGG19\n",
    "from keras.preprocessing import image\n",
    "\n",
    "from keras.applications.mobilenet import preprocess_input as mobilenet_preprocess\n",
    "from keras.applications.vgg19 import preprocess_input as vgg19_preprocess"
   ]
  },
  {
   "cell_type": "code",
   "execution_count": 39,
   "metadata": {},
   "outputs": [],
   "source": [
    "from categories import categories"
   ]
  },
  {
   "cell_type": "code",
   "execution_count": 40,
   "metadata": {},
   "outputs": [],
   "source": [
    "image_filenames = [filename for filename in os.listdir(\"Cat\") if os.path.splitext(filename)[-1] == \".jpg\"]"
   ]
  },
  {
   "cell_type": "code",
   "execution_count": 41,
   "metadata": {},
   "outputs": [
    {
     "name": "stderr",
     "output_type": "stream",
     "text": [
      "100%|██████████| 100/100 [00:17<00:00,  5.72it/s]\n"
     ]
    }
   ],
   "source": [
    "model = MobileNet()\n",
    "predictions = {}\n",
    "\n",
    "for image_filename in tqdm(image_filenames):\n",
    "    img = image.load_img('Cat/{0}'.format(image_filename), target_size=(224, 224))\n",
    "    x = image.img_to_array(img)\n",
    "    x = np.expand_dims(x, axis=0)\n",
    "    x = mobilenet_preprocess(x)\n",
    "    preds = model.predict(x)\n",
    "    \n",
    "    id = preds.argmax()\n",
    "        \n",
    "    prediction = {\n",
    "        \"imagenet_index\": id,\n",
    "        \"imagenet_category\": categories[id],\n",
    "        \"correct\": id in [281, 282, 283, 284, 285]\n",
    "    }\n",
    "    predictions[image_filename] = prediction\n",
    "    \n",
    "df_predictions = pd.DataFrame.from_dict(predictions, orient=\"index\")\n",
    "df_predictions.to_csv(\"MobileNet_results.csv\")"
   ]
  },
  {
   "cell_type": "code",
   "execution_count": 42,
   "metadata": {},
   "outputs": [
    {
     "name": "stderr",
     "output_type": "stream",
     "text": [
      "100%|██████████| 100/100 [01:33<00:00,  1.07it/s]\n"
     ]
    }
   ],
   "source": [
    "model = VGG19()\n",
    "predictions = {}\n",
    "\n",
    "for image_filename in tqdm(image_filenames):\n",
    "    img = image.load_img('Cat/{0}'.format(image_filename), target_size=(224, 224))\n",
    "    x = image.img_to_array(img)\n",
    "    x = np.expand_dims(x, axis=0)\n",
    "    x = vgg19_preprocess(x)\n",
    "    preds = model.predict(x)\n",
    "    \n",
    "    id = preds.argmax()\n",
    "        \n",
    "    prediction = {\n",
    "        \"imagenet_index\": id,\n",
    "        \"imagenet_category\": categories[id],\n",
    "        \"correct\": id in [281, 282, 283, 284, 285]\n",
    "    }\n",
    "    predictions[image_filename] = prediction\n",
    "    \n",
    "df_predictions = pd.DataFrame.from_dict(predictions, orient=\"index\")\n",
    "df_predictions.to_csv(\"VGG19_results.csv\")"
   ]
  },
  {
   "cell_type": "code",
   "execution_count": 44,
   "metadata": {},
   "outputs": [],
   "source": [
    "%%bash\n",
    "cp VGG19_results.csv MobileNet_results.csv ../AutoReporting/datasets/"
   ]
  }
 ],
 "metadata": {
  "kernelspec": {
   "display_name": "Python 3",
   "language": "python",
   "name": "python3"
  },
  "language_info": {
   "codemirror_mode": {
    "name": "ipython",
    "version": 3
   },
   "file_extension": ".py",
   "mimetype": "text/x-python",
   "name": "python",
   "nbconvert_exporter": "python",
   "pygments_lexer": "ipython3",
   "version": "3.6.3"
  }
 },
 "nbformat": 4,
 "nbformat_minor": 2
}
